{
 "cells": [
  {
   "cell_type": "markdown",
   "id": "16766a25-35a2-4076-804a-cd40195cecc9",
   "metadata": {},
   "source": [
    "# Theoretical Questions"
   ]
  },
  {
   "cell_type": "markdown",
   "id": "74d80223-8bc3-4db7-8c9b-c6079febf70a",
   "metadata": {},
   "source": [
    "# 1. Explain the purpose and advantages of NumPy in scientific computing and data analysis. How does it  enhance Python's capabilities for numerical operations?"
   ]
  },
  {
   "cell_type": "code",
   "execution_count": 7,
   "id": "b1eaad6d-fd3c-442a-b1b9-cf81a8d95314",
   "metadata": {},
   "outputs": [],
   "source": [
    "# Advantages of NumPy\n",
    "# Performance: NumPy arrays are implemented in C, which makes operations on them significantly faster than using Python lists. \n",
    "# This is particularly important for large datasets.\n",
    "\n",
    "# Memory Efficiency: NumPy arrays consume less memory compared to Python lists, as they are more compact and store data of the same type.\n",
    "\n",
    "# Convenient Syntax: NumPy offers a rich set of operations that can be performed element-wise on arrays, making the code more concise and easier to read.\n",
    "\n",
    "# Broadcasting: NumPy supports broadcasting, which allows for arithmetic operations between arrays of different shapes, making it easier to work \n",
    "# with datasets of varying dimensions.\n",
    "\n",
    "# Comprehensive Functionality: It includes a wide range of mathematical functions, linear algebra capabilities, statistical operations, and tools \n",
    "# for working with Fourier transforms, making it suitable for diverse applications in data analysis and scientific computing.\n",
    "# Community and Ecosystem: Being widely adopted in the scientific community, NumPy benefits from extensive documentation, tutorials, and an active \n",
    "# user community, which facilitates learning and problem-solving.\n",
    "\n",
    "\n",
    "# Enhancements to Python’s Numerical Capabilities\n",
    "# Array Object: The core of NumPy is the ndarray (n-dimensional array) object, which allows for efficient manipulation of numerical data in various \n",
    "# dimensions (1D, 2D, 3D, etc.).\n",
    "\n",
    "# Vectorization: NumPy enables vectorized operations, which eliminate the need for explicit loops, thus enhancing performance and code clarity.\n",
    "\n",
    "# Interoperability: NumPy arrays can easily integrate with other libraries, enabling seamless data exchange and enhancing Python's functionality in \n",
    "# data science and machine learning tasks."
   ]
  },
  {
   "cell_type": "markdown",
   "id": "5d5fe7ed-8378-4f4c-81c2-e49bf78473aa",
   "metadata": {},
   "source": [
    "# 2. Compare and contrast np.mean() and np.average() functions in NumPy. When would you use one over the  other?"
   ]
  },
  {
   "cell_type": "code",
   "execution_count": 12,
   "id": "0f997360-6a93-4176-aa1e-9334cf61f1f4",
   "metadata": {},
   "outputs": [],
   "source": [
    "\n",
    "# Both np.mean() and np.average() are functions in NumPy used to compute the central tendency of an array, but they have some \n",
    "# differences in functionality and use cases.\n",
    "\n",
    "# np.mean()\n",
    "# Purpose: Computes the arithmetic mean (average) of an array.\n",
    "# Syntax: np.mean(a, axis=None, dtype=None, out=None, keepdims=False)\n",
    "    \n",
    "# Parameters:\n",
    "# a: Input array.\n",
    "# axis: Axis or axes along which the means are computed. Default is to compute the mean of the flattened array.\n",
    "# dtype: Data type to use for the calculation.\n",
    "# out: Alternate output array to store the result.\n",
    "# keepdims: If True, the reduced axes are retained in the result as dimensions with size one.\n",
    "\n",
    "# Use Case: Use np.mean() when you simply want to compute the mean of the elements in an array without any additional weighting.\n",
    "                       \n",
    "# np.average()\n",
    "# Purpose: Computes the weighted average of an array, allowing for the specification of weights.\n",
    "# Syntax: np.average(a, axis=None, weights=None, returned=False)\n",
    "                       \n",
    "# Parameters:\n",
    "# a: Input array.\n",
    "# axis: Axis or axes along which the averages are computed.\n",
    "# weights: Optional array of weights associated with the values in a. If provided, the weighted average is calculated.\n",
    "# returned: If True, the tuple (average, sum of weights) is returned.\n",
    "                       \n",
    "# Use Case: Use np.average() when you need to compute a mean where some values contribute more (or less) to the average than others, based on \n",
    "# specified weights."
   ]
  },
  {
   "cell_type": "markdown",
   "id": "cc3fbecc-01b8-4f2b-be50-096705426390",
   "metadata": {},
   "source": [
    "# 3. Describe the methods for reversing a NumPy array along different axes. Provide examples for 1D and 2D   arrays"
   ]
  },
  {
   "cell_type": "code",
   "execution_count": 15,
   "id": "7c52bc4f-d7e5-4846-9425-74aca009a265",
   "metadata": {},
   "outputs": [],
   "source": [
    "# Reversing a NumPy array can be done easily using slicing or specific functions. Below are methods for reversing 1D and 2D arrays along different axes, \n",
    "# along with examples.\n",
    "\n",
    "# Reversing a 1D Array\n",
    "# arr_1d[::-1]\n",
    "\n",
    "# Reversing a 2D Array\n",
    "# For a 2D array, you can reverse along different axes (rows and columns) using the same slicing technique.\n",
    "# Axis 0 (Rows): Use [::-1] to reverse rows, e.g., arr_2d[::-1].\n",
    "# Axis 1 (Columns): Use slicing [:, ::-1] to reverse columns.\n",
    "# both Axis : array[::-1, ::-1]\n",
    "\n",
    "# Slicing: array[::-1] for 1D, array[::-1, :] or array[:, ::-1] for 2D.\n",
    "# np.flip(): np.flip(array, axis) for reversing along a specific axis.\n",
    "# np.flipud() and np.fliplr(): For flipping 2D arrays up-down and left-right, respectively.\n",
    "# np.roll(): Can be used to shift elements but is not typically used for reversing."
   ]
  },
  {
   "cell_type": "markdown",
   "id": "0f18d109-46cb-4d01-9977-f4b00f15849d",
   "metadata": {},
   "source": [
    "# 4. How can you determine the data type of elements in a NumPy array? Discuss the importance of data types   in memory management and performance"
   ]
  },
  {
   "cell_type": "code",
   "execution_count": null,
   "id": "24eaf8cd-a53d-440b-a63c-8b05d06d48b9",
   "metadata": {},
   "outputs": [],
   "source": [
    "# In NumPy, you can determine the data type of elements in an array using the .dtype attribute of the array. Here’s how to do it:\n",
    "\n",
    "arr = np.array([1, 2, 3, 4, 5])\n",
    "\n",
    "# Get the data type of the elements\n",
    "data_type = arr.dtype\n",
    "\n",
    "# Importance of Data Types\n",
    "# 1.Memory Management:\n",
    "# 2.Performance:\n",
    "# 3.Compatibility and Precision:\n",
    "# 4.Error Prevention:\n",
    "\n",
    "# The ability to check and specify the data type of a NumPy array is essential for effective memory management and performance optimization. \n",
    "# Choosing the right data type not only helps in saving memory but also enhances the efficiency of numerical computations, leading to faster \n",
    "# execution of data analysis and scientific computing tasks."
   ]
  },
  {
   "cell_type": "markdown",
   "id": "c3417a6b-c6c8-499d-8526-53f4dcf5b6ab",
   "metadata": {},
   "source": [
    "# 5. Define ndarrays in NumPy and explain their key features. How do they differ from standard Python lists?"
   ]
  },
  {
   "cell_type": "code",
   "execution_count": 25,
   "id": "9441cfa9-5644-4d9d-b42f-6107b6d710c8",
   "metadata": {},
   "outputs": [],
   "source": [
    "# In NumPy, ndarrays (n-dimensional arrays) are the central data structure used for storing and manipulating numerical data. \n",
    "# They provide a powerful and flexible way to handle multi-dimensional data efficiently.\n",
    "\n",
    "# Key Features of ndarrays\n",
    "# 1.Homogeneous Data Types:\n",
    "# 2Multi-dimensional:\n",
    "# 3Shape and Size:\n",
    "# 4Efficient Memory Usage:\n",
    "# 5Vectorized Operations:\n",
    "# 6Rich Functionality:\n",
    "# 7Indexing and Slicing:\n",
    "\n",
    "# Differences from Standard Python Lists\n",
    "# 1Data Type Uniformity:\n",
    "# 2Performance:\n",
    "# 3Dimensionality\n",
    "# 4Memory Layout:"
   ]
  },
  {
   "cell_type": "markdown",
   "id": "851403eb-ea03-425f-b9a5-f6adbbb96fd8",
   "metadata": {},
   "source": [
    "# 6. Analyze the performance benefits of NumPy arrays over Python lists for large-scale numerical operations."
   ]
  },
  {
   "cell_type": "code",
   "execution_count": 28,
   "id": "358f4d97-6d88-4dc7-8005-b1bf8b11b009",
   "metadata": {},
   "outputs": [],
   "source": [
    "# NumPy arrays offer significant performance benefits over standard Python lists, particularly when it comes to large-scale numerical operations. \n",
    "\n",
    "# Here are some key areas where NumPy arrays excel:\n",
    "\n",
    "# 1. Memory Efficiency\n",
    "# *Contiguous Memory Allocation\n",
    "# *Data Type Uniformity\n",
    "\n",
    "# 2. Speed of Operations\n",
    "# *Optimized C Implementation\n",
    "# *Vectorization\n",
    "\n",
    "# 3. Broadcasting\n",
    "\n",
    "# 4. Built-in Functions\n",
    "\n",
    "# 5. Reduced Overhead\n",
    "\n",
    "# 6. Parallelization\n",
    "\n",
    "# The performance benefits of NumPy arrays over Python lists become increasingly pronounced with larger datasets and more complex numerical operations. \n",
    "# By providing efficient memory usage, speed through optimized implementations, and powerful features like vectorization and broadcasting, \n",
    "# NumPy is the go-to choice for numerical computing and data analysis in Python. These advantages make it an essential tool for scientists, engineers, \n",
    "# and data analysts working with large-scale numerical data."
   ]
  },
  {
   "cell_type": "markdown",
   "id": "9ad5f802-a3d2-4537-99ca-d59f9cacd510",
   "metadata": {},
   "source": [
    "# 7. Compare vstack() and hstack() functions in NumPy. Provide examples demonstrating their usage and   output"
   ]
  },
  {
   "cell_type": "code",
   "execution_count": 35,
   "id": "9fdf56ac-7acc-4341-b3fe-2c0c2ea1fe06",
   "metadata": {},
   "outputs": [],
   "source": [
    "# The vstack() and hstack() functions in NumPy are used to stack arrays vertically and horizontally, respectively. Both functions facilitate the \n",
    "# combination of arrays, but they do so along different axes.\n",
    "\n",
    "# 1. vstack()\n",
    "# Purpose: Stacks arrays in sequence vertically (row-wise).\n",
    "# Axis: The arrays are stacked along the first axis (axis 0), meaning that rows are added.\n",
    "\n",
    "# 2. hstack()\n",
    "# Purpose: Stacks arrays in sequence horizontally (column-wise).\n",
    "# Axis: The arrays are stacked along the second axis (axis 1), meaning that columns are added.\n",
    "\n",
    "# Usage:\n",
    "# vstack() combines arrays along the first axis (vertical stacking), resulting in more rows.\n",
    "# hstack() combines arrays along the second axis (horizontal stacking), resulting in more columns.\n",
    "# Both functions are useful for reshaping and combining data in various ways, depending on the specific needs of your analysis or computations."
   ]
  },
  {
   "cell_type": "markdown",
   "id": "f530f108-78b6-474b-b0a8-229135bc0cf1",
   "metadata": {},
   "source": [
    "# 8. Explain the differences between fliplr() and flipud() methods in NumPy, including their effects on various array dimensions"
   ]
  },
  {
   "cell_type": "code",
   "execution_count": 40,
   "id": "ef0ec13a-edb2-44ec-8b2c-a0f9a068d6b6",
   "metadata": {},
   "outputs": [],
   "source": [
    "# The fliplr() and flipud() methods in NumPy are used to flip arrays along different axes. Here’s a detailed explanation of their differences, \n",
    "# along with examples demonstrating their effects on various array dimensions.\n",
    "\n",
    "# 1. fliplr()\n",
    "# Purpose: Flips an array left to right (horizontally).\n",
    "# Effect: This method reverses the order of columns in a 2D array or in higher-dimensional arrays, it flips each 2D slice along the last axis.\n",
    "\n",
    "# 2. flipud()\n",
    "# Purpose: Flips an array up to down (vertically).\n",
    "# Effect: This method reverses the order of rows in a 2D array or in higher-dimensional arrays, it flips each 2D slice along the second-to-last axis.\n",
    "\n",
    "# Effects on Various Array Dimensions\n",
    "# 1 2D Arrays:\n",
    "# fliplr(): Reverses the order of columns.\n",
    "# flipud(): Reverses the order of rows.\n",
    "\n",
    "\n",
    "# 1D Arrays:\n",
    "# Both methods would behave the same as they do not apply to 1D arrays since there are no rows or columns to flip. Instead, you would use \n",
    "# slicing (e.g., array[::-1]) to reverse a 1D array.\n",
    "\n",
    "# 3D Arrays:\n",
    "# For a 3D array, fliplr() will flip each 2D slice along the last axis (horizontal flip), while flipud() will flip each 2D slice along the \n",
    "# second-to-last axis (vertical flip)."
   ]
  },
  {
   "cell_type": "markdown",
   "id": "7613e96d-123e-4a75-813e-ec81fd36f8e1",
   "metadata": {},
   "source": [
    "# 9. Discuss the functionality of the array_split() method in NumPy. How does it handle uneven splits?"
   ]
  },
  {
   "cell_type": "code",
   "execution_count": 47,
   "id": "a32cd1a9-93be-4ff6-b2b7-1525ca24be0c",
   "metadata": {},
   "outputs": [],
   "source": [
    "# The array_split() method in NumPy is used to divide an array into multiple sub-arrays along a specified axis. \n",
    "# It is particularly useful when you want to split an array into parts for further processing, such as training/testing datasets in machine \n",
    "# learning or managing data chunks.\n",
    "    \n",
    "# Functionality of array_split()Basic Syntax:\n",
    "# numpy.array_split(ary, indices_or_sections, axis=0)\n",
    "\n",
    "# ary: The input array to be split.\n",
    "# indices_or_sections: Either an integer specifying the number of equal splits or a 1-D array of indices where the array should be split.\n",
    "# axis: The axis along which to split the array (default is 0 for vertical splits).\n",
    "\n",
    "# Flexibility: array_split() allows for easy splitting of arrays into sub-arrays, handling both even and uneven splits seamlessly.\n",
    "# Intuitive Distribution: When the total number of elements cannot be evenly divided, the method distributes the remainder to the last sub-array, \n",
    "# making it a practical choice for data manipulation tasks.\n"
   ]
  },
  {
   "cell_type": "markdown",
   "id": "6a9d2ef9-b194-4072-842b-6f161e6e9d59",
   "metadata": {},
   "source": [
    "# 10. Explain the concepts of vectorization and broadcasting in NumPy. How do they contribute to efficient array   operations?"
   ]
  },
  {
   "cell_type": "code",
   "execution_count": null,
   "id": "e0fe8ce2-feea-41a6-837c-9cb68ea3920b",
   "metadata": {},
   "outputs": [],
   "source": [
    "# Vectorization and broadcasting are two fundamental concepts in NumPy that greatly enhance the efficiency of array operations, making numerical \n",
    "# computations more intuitive and faster.\n",
    "\n",
    "# 1. Vectorization\n",
    "# Definition: Vectorization refers to the practice of replacing explicit loops in Python with array expressions that operate on entire arrays at once.\n",
    "# This leverages NumPy's underlying implementation in C, allowing for optimized performance.\n",
    "\n",
    "# Benefits:\n",
    "\n",
    "# Performance: Vectorized operations are executed in compiled code, which is significantly faster than executing loops in Python. \n",
    "# This leads to substantial speedups, especially with large datasets.\n",
    "# Code Clarity: Vectorized code is often more concise and readable, reducing the likelihood of errors.\n",
    "\n",
    "\n",
    "# 2. Broadcasting\n",
    "# Definition: Broadcasting is a powerful mechanism that allows NumPy to perform arithmetic operations on arrays of different shapes. \n",
    "# When performing operations, NumPy automatically expands the smaller array's dimensions to match the larger array’s dimensions.\n",
    "\n",
    "# How It Works:\n",
    "\n",
    "# If the dimensions of the arrays are not the same, NumPy will \"broadcast\" the smaller array across the larger array so that they have \n",
    "# compatible shapes.\n",
    "# Broadcasting follows a set of rules to determine how to align the shapes of the arrays for the operation.\n",
    "# Benefits:\n",
    "\n",
    "# Flexibility: Allows for operations on arrays of different sizes without the need to manually resize or replicate data.\n",
    "# Memory Efficiency: Reduces the need to create large temporary arrays, as it operates with the original shapes."
   ]
  }
 ],
 "metadata": {
  "kernelspec": {
   "display_name": "Python 3 (ipykernel)",
   "language": "python",
   "name": "python3"
  },
  "language_info": {
   "codemirror_mode": {
    "name": "ipython",
    "version": 3
   },
   "file_extension": ".py",
   "mimetype": "text/x-python",
   "name": "python",
   "nbconvert_exporter": "python",
   "pygments_lexer": "ipython3",
   "version": "3.12.4"
  }
 },
 "nbformat": 4,
 "nbformat_minor": 5
}
