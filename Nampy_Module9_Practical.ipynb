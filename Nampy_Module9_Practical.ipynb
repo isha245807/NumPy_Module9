{
 "cells": [
  {
   "cell_type": "markdown",
   "id": "2996ef57-2d1d-473c-a5c8-915496c536bd",
   "metadata": {},
   "source": [
    "# Practical Questions:"
   ]
  },
  {
   "cell_type": "markdown",
   "id": "419a385d-5c4d-4da4-a55b-94e079f54f61",
   "metadata": {},
   "source": [
    "# 1. Create a 3x3 NumPy array with random integers between 1 and 100. Then, interchange its rows and columns"
   ]
  },
  {
   "cell_type": "code",
   "execution_count": 15,
   "id": "dabf39c9-4387-41ec-8529-3e0c7c258b07",
   "metadata": {},
   "outputs": [
    {
     "name": "stdout",
     "output_type": "stream",
     "text": [
      "[[6 1 1]\n",
      " [6 7 8]\n",
      " [8 7 7]]\n",
      "Interchnage of array is \n",
      "[[6 6 8]\n",
      " [1 7 7]\n",
      " [1 8 7]]\n",
      "\n"
     ]
    }
   ],
   "source": [
    "import numpy as np\n",
    "arry=np.random.randint(1,10, size=(3,3))\n",
    "print(arry)\n",
    "print(f\"Interchnage of array is \\n{arry.T}\\n\")"
   ]
  },
  {
   "cell_type": "markdown",
   "id": "dbc13808-c747-4096-8214-67da33d102dd",
   "metadata": {},
   "source": [
    "# 2. Generate a 1D NumPy array with 10 elements. Reshape it into a 2x5 array, then into a 5x2 array."
   ]
  },
  {
   "cell_type": "code",
   "execution_count": 25,
   "id": "6d15c20b-a589-45ed-af75-885e6cad17df",
   "metadata": {},
   "outputs": [
    {
     "name": "stdout",
     "output_type": "stream",
     "text": [
      "Array is: [9 5 5 3 4 4 7 9 4 4]\n",
      "Array in 2*5 is:-\n",
      "[[9 5 5 3 4]\n",
      " [4 7 9 4 4]]\n",
      "\n"
     ]
    }
   ],
   "source": [
    "arry2=np.random.randint(1,10, size=(10))\n",
    "print(f\"Array is: {arry2}\")\n",
    "print(f\"Array in 2*5 is:-\\n{arry2.reshape(2,5)}\\n\")"
   ]
  },
  {
   "cell_type": "markdown",
   "id": "5c752698-0d81-4262-a701-5747205ed01f",
   "metadata": {},
   "source": [
    "# 3. Create a 4x4 NumPy array with random float values. Add a border of zeros around it, resulting in a 6x6 array."
   ]
  },
  {
   "cell_type": "code",
   "execution_count": 46,
   "id": "eeb0ec4f-d2a0-4214-ab13-a4c342d88ed8",
   "metadata": {},
   "outputs": [
    {
     "name": "stdout",
     "output_type": "stream",
     "text": [
      "Array is:\n",
      " [[0.         0.         0.         0.         0.         0.        ]\n",
      " [0.         0.81699754 0.59304334 0.93688977 0.01862155 0.        ]\n",
      " [0.         0.47219178 0.83743886 0.7299142  0.13950952 0.        ]\n",
      " [0.         0.54732347 0.57606167 0.4231466  0.41236345 0.        ]\n",
      " [0.         0.82883398 0.69848574 0.22314644 0.63868078 0.        ]\n",
      " [0.         0.         0.         0.         0.         0.        ]]\n"
     ]
    }
   ],
   "source": [
    "arry3=np.random.rand(4,4)\n",
    "bordered_array = np.pad(arry3, pad_width=1, mode='constant', constant_values=0)\n",
    "print(f\"Array is:\\n {bordered_array}\")"
   ]
  },
  {
   "cell_type": "markdown",
   "id": "f557b137-0878-4bbb-bd10-f2ad18215972",
   "metadata": {},
   "source": [
    "# 4. Using NumPy, create an array of integers from 10 to 60 with a step of 5"
   ]
  },
  {
   "cell_type": "code",
   "execution_count": 58,
   "id": "66a39af4-3567-439a-b9c8-49c5533c2f67",
   "metadata": {},
   "outputs": [
    {
     "name": "stdout",
     "output_type": "stream",
     "text": [
      "Array is: [10 15 20 25 30 35 40 45 50 55 60]\n"
     ]
    }
   ],
   "source": [
    "arry4=np.arange(10,61,5, dtype=int)\n",
    "print(f\"Array is: {arry4}\")"
   ]
  },
  {
   "cell_type": "markdown",
   "id": "81ad7149-e23e-45d1-8adb-ce49d951b5a0",
   "metadata": {},
   "source": [
    "# 5. Create a NumPy array of strings ['python', 'numpy', 'pandas']. Apply different case transformations   (uppercase, lowercase, title case, etc.) to each element"
   ]
  },
  {
   "cell_type": "code",
   "execution_count": 71,
   "id": "ea0d9f1f-32b1-4201-8c4d-229542fc7f27",
   "metadata": {},
   "outputs": [
    {
     "name": "stdout",
     "output_type": "stream",
     "text": [
      "Upper Case:-\t['PYTHON' 'NUMPY' 'PANDAS']\n",
      "Upper Case:-\t['python' 'numpy' 'pandas']\n",
      "Upper Case:-\t['Python' 'Numpy' 'Pandas']\n",
      "\n"
     ]
    }
   ],
   "source": [
    "arry5=np.array(['Python','numpy','pandas'])\n",
    "print(f\"Upper Case:-\\t{np.char.upper(arry5)}\")\n",
    "print(f\"Upper Case:-\\t{np.char.lower(arry5)}\")\n",
    "print(f\"Upper Case:-\\t{np.char.title(arry5)}\\n\")"
   ]
  },
  {
   "cell_type": "markdown",
   "id": "43e1296c-2af6-42c3-b4a4-58c638fe39ad",
   "metadata": {},
   "source": [
    "# 6. Generate a NumPy array of words. Insert a space between each character of every word in the array."
   ]
  },
  {
   "cell_type": "code",
   "execution_count": 78,
   "id": "c5439d3d-95e8-46b3-95fb-66e14dc40230",
   "metadata": {},
   "outputs": [
    {
     "name": "stdout",
     "output_type": "stream",
     "text": [
      "After adding space beween each letter of word is:-\n",
      "['P y t h o n' 'n u m p y' 'p a n d a s']\n",
      "\n"
     ]
    }
   ],
   "source": [
    "arry6=np.array(['Python','numpy','pandas'])\n",
    "print(f\"After adding space beween each letter of word is:-\\n{np.char.join(\" \",arry6)}\\n\")"
   ]
  },
  {
   "cell_type": "markdown",
   "id": "6eb0a4b3-a4ce-41bf-9531-b86580b5f16b",
   "metadata": {},
   "source": [
    "# 7. Create two 2D NumPy arrays and perform element-wise addition, subtraction, multiplication, and division"
   ]
  },
  {
   "cell_type": "code",
   "execution_count": 103,
   "id": "37e43455-8dfe-4932-a11d-005a829aae5e",
   "metadata": {},
   "outputs": [
    {
     "name": "stdout",
     "output_type": "stream",
     "text": [
      "Given arrays\n",
      " Array1\n",
      "[[4 4 2]\n",
      " [4 4 1]]\n",
      "Array2\n",
      "[[8 7 9]\n",
      " [7 9 6]]\n",
      " Addition of 2D array is:\n",
      "[[12 11 11]\n",
      " [11 13  7]]\n",
      "\n",
      " Subtraction of 2D array is:\n",
      "[[-4 -3 -7]\n",
      " [-3 -5 -5]]\n",
      "\n",
      " Multiplication of 2D array is:\n",
      "[[32 28 18]\n",
      " [28 36  6]]\n",
      "\n",
      " Devision of 2D array is:\n",
      "[[0.5        0.57142857 0.22222222]\n",
      " [0.57142857 0.44444444 0.16666667]]\n",
      "\n"
     ]
    }
   ],
   "source": [
    "arryOne=np.random.randint(1,5,size=(2,3))\n",
    "arryTwo=np.random.randint(6,10,size=(2,3))\n",
    "print(f\"Given arrays\\n Array1\\n{arryOne}\\nArray2\\n{arryTwo}\")\n",
    "print(f\" Addition of 2D array is:\\n{np.add(arryOne,arryTwo)}\\n\")\n",
    "print(f\" Subtraction of 2D array is:\\n{arryOne-arryTwo}\\n\")\n",
    "print(f\" Multiplication of 2D array is:\\n{arryOne*arryTwo}\\n\")\n",
    "print(f\" Devision of 2D array is:\\n{arryOne/arryTwo}\\n\")"
   ]
  },
  {
   "cell_type": "markdown",
   "id": "976751be-0bfd-4d0b-9ed3-30bc3e859d09",
   "metadata": {},
   "source": [
    "#  8. Use NumPy to create a 5x5 identity matrix, then extract its diagonal elements"
   ]
  },
  {
   "cell_type": "code",
   "execution_count": 113,
   "id": "c81d911c-e819-4c33-93b9-e892ecf8d639",
   "metadata": {},
   "outputs": [
    {
     "name": "stdout",
     "output_type": "stream",
     "text": [
      "Indentity Matrix is:\n",
      "[[1. 0. 0. 0. 0.]\n",
      " [0. 1. 0. 0. 0.]\n",
      " [0. 0. 1. 0. 0.]\n",
      " [0. 0. 0. 1. 0.]\n",
      " [0. 0. 0. 0. 1.]]\n",
      "Diagonal Elements are:\n",
      "[1. 1. 1. 1. 1.]\n",
      "\n"
     ]
    }
   ],
   "source": [
    "arry8=np.eye(5)\n",
    "print(f\"Indentity Matrix is:\\n{arry8}\")\n",
    "print(f\"Diagonal Elements are:\\n{np.diagonal(arry8)}\\n\")"
   ]
  },
  {
   "cell_type": "markdown",
   "id": "35c59e84-69b9-42aa-bee8-a08b71831377",
   "metadata": {},
   "source": [
    "# 9. Generate a NumPy array of 100 random integers between 0 and 1000. Find and display all prime numbers in this array."
   ]
  },
  {
   "cell_type": "code",
   "execution_count": 118,
   "id": "39486d14-7a1e-476f-a8fa-4a01e5da90f1",
   "metadata": {},
   "outputs": [
    {
     "name": "stdout",
     "output_type": "stream",
     "text": [
      "Random Integers:\n",
      " [623 919 555 168 774 266 697  78 279 561  88 210 654 778  93 536 244 815\n",
      " 826 836 284 977 220 198 637 242 762 572 416 429 297 170 665 270 698 476\n",
      " 453 570 161 619 865  36 795  65 985 449 969 898 574 134 263 522  76 982\n",
      " 998 364 338 987 582 189 951 227 576 180 881 289 137 493 493 396  27 652\n",
      " 622 113  63 139 700 370 153 749 154 728 177 212  28 676 977 784 680 297\n",
      "  38 683 529 507 867 260 580 588 392 555]\n",
      "Prime Numbers in the Array:\n",
      " [919, 977, 619, 449, 263, 227, 881, 137, 113, 139, 977, 683]\n"
     ]
    }
   ],
   "source": [
    "import numpy as np\n",
    "arry9 = np.random.randint(0, 1000, size=100)\n",
    "print(\"Random Integers:\\n\", arry9)\n",
    "\n",
    "def is_prime(n):\n",
    "    \"\"\"Check if a number is prime.\"\"\"\n",
    "    if n <= 1:\n",
    "        return False\n",
    "    for i in range(2, int(n**0.5) + 1):\n",
    "        if n % i == 0:\n",
    "            return False\n",
    "    return True\n",
    "\n",
    "prime_numbers = [num for num in arry9 if is_prime(num)]\n",
    "\n",
    "# Display the prime numbers\n",
    "print(\"Prime Numbers in the Array:\\n\", prime_numbers)\n"
   ]
  },
  {
   "cell_type": "markdown",
   "id": "ecab7e96-1a6b-46fb-9ab2-0128bee0b3be",
   "metadata": {},
   "source": [
    "# 10. Create a NumPy array representing daily temperatures for a month. Calculate and display the weekly  averages."
   ]
  },
  {
   "cell_type": "code",
   "execution_count": 121,
   "id": "28e096f5-8b84-4fa9-a8a0-012c21cf955f",
   "metadata": {},
   "outputs": [
    {
     "name": "stdout",
     "output_type": "stream",
     "text": [
      "Daily Temperatures for the Month:\n",
      " [15 24 25 21 29 20 17 24 28 16 15 18 18 28 17 23 24 25 25 16 21 15 30 15\n",
      " 29 17 27 29 23 17]\n",
      "\n",
      "Weekly Temperatures:\n",
      " [[15 24 25 21 29 20 17]\n",
      " [24 28 16 15 18 18 28]\n",
      " [17 23 24 25 25 16 21]\n",
      " [15 30 15 29 17 27 29]]\n",
      "\n",
      "Weekly Averages:\n",
      " [21.57142857 21.         21.57142857 23.14285714]\n"
     ]
    }
   ],
   "source": [
    "import numpy as np\n",
    "\n",
    "daily_temperatures = np.random.randint(15, 31, size=30)\n",
    "print(\"Daily Temperatures for the Month:\\n\", daily_temperatures)\n",
    "weekly_temperatures = daily_temperatures[:28].reshape(4, 7)\n",
    "print(\"\\nWeekly Temperatures:\\n\", weekly_temperatures)\n",
    "weekly_averages = np.mean(weekly_temperatures, axis=1)\n",
    "print(\"\\nWeekly Averages:\\n\", weekly_averages)\n"
   ]
  },
  {
   "cell_type": "code",
   "execution_count": null,
   "id": "aea6c04a-d53d-4593-bfea-44337f7eb67c",
   "metadata": {},
   "outputs": [],
   "source": []
  }
 ],
 "metadata": {
  "kernelspec": {
   "display_name": "Python 3 (ipykernel)",
   "language": "python",
   "name": "python3"
  },
  "language_info": {
   "codemirror_mode": {
    "name": "ipython",
    "version": 3
   },
   "file_extension": ".py",
   "mimetype": "text/x-python",
   "name": "python",
   "nbconvert_exporter": "python",
   "pygments_lexer": "ipython3",
   "version": "3.12.4"
  }
 },
 "nbformat": 4,
 "nbformat_minor": 5
}
